{
  "nbformat": 4,
  "nbformat_minor": 0,
  "metadata": {
    "colab": {
      "provenance": []
    },
    "kernelspec": {
      "name": "python3",
      "display_name": "Python 3"
    },
    "language_info": {
      "name": "python"
    }
  },
  "cells": [
    {
      "cell_type": "markdown",
      "source": [
        "Python Basic assignment\n",
        "\n"
      ],
      "metadata": {
        "id": "02UapNGM3Rh8"
      }
    },
    {
      "cell_type": "markdown",
      "source": [
        "Q-1 What is Python, and why is it popular ?\n",
        "    \n",
        "Ans- python is a High level interpreted programming language known for its simplycityand readability. it is very popular because of its varsatility, easy to learn and read, Dynamic typing and community support.\n",
        "  \n"
      ],
      "metadata": {
        "id": "QrjhoQmTGV07"
      }
    },
    {
      "cell_type": "markdown",
      "source": [
        "Q-2 > What is an interpreter in Python ?"
      ],
      "metadata": {
        "id": "EWs3MpQ54kGO"
      }
    },
    {
      "cell_type": "markdown",
      "source": [
        "Ans- In Python, an interpreter is the program that reads and executes Python code line by line.When you write a Python script, you don’t need to compile it into machine code manually. Instead, the Python interpreter handles everything\n",
        "Reads your code.Translates it into bytecode.Executes the bytecode using the Python Virtual Machine.\n",
        "This process makes Python a high-level, interpreted language.\n",
        "For example:\n",
        "\n",
        "print(\"Hello, World!\")\n",
        "\n",
        "When you run this file:The Python interpreter processes it line by line.\n",
        "Translates print(\"Hello, World!\") into bytecode.\n",
        "The PVM executes it and displays the output.\n",
        "Because Python is interpreted, you can run code directly in the interactive shell and see results immediately."
      ],
      "metadata": {
        "id": "9cQxxHg66NRT"
      }
    },
    {
      "cell_type": "markdown",
      "source": [
        "Q-3 What are pre-defined keywords in Python?"
      ],
      "metadata": {
        "id": "5dvqIJKC6Ix1"
      }
    },
    {
      "cell_type": "markdown",
      "source": [
        "Ans- In Python, keywords are reserved words that have special meaning in the language.They cannot be used as variable names, function names, or identifiers. some keywords are False, none, true, and, an, else, del, with, try, while, return and many more."
      ],
      "metadata": {
        "id": "z1B2yA266kqJ"
      }
    },
    {
      "cell_type": "markdown",
      "source": [
        "Q-4 Can keywords be used as variable names?\n",
        "\n",
        "Ans- The keywords can not be used as variables."
      ],
      "metadata": {
        "id": "lea4OS1VFq5N"
      }
    },
    {
      "cell_type": "markdown",
      "source": [
        "Q- 5 What is mutability in Python ?\n",
        "\n",
        "Ans- mutability means whether an object's value can be changed or modified after it is created."
      ],
      "metadata": {
        "id": "joCrj-7uGios"
      }
    },
    {
      "cell_type": "markdown",
      "source": [
        "Q-6 Why are lists mutable, but tuples are immutable ?\n",
        "\n",
        "Ans- A list is meant to be a flexible data structure that you can grow, shrink, and modify. so it is Mutable. but where as tuples are designed to be fixed collection of items. so they are immutable."
      ],
      "metadata": {
        "id": "BURrGpYBG7kH"
      }
    },
    {
      "cell_type": "markdown",
      "source": [],
      "metadata": {
        "id": "Mn7g5p1LIPr3"
      }
    },
    {
      "cell_type": "markdown",
      "source": [
        "Q-7 What is the difference between “==” and “is” operators in Python ?\n",
        "\n",
        "Ans- == operator checks value equaly it does not care the objects are stored in same memory. where \"is\" operator checks identity where two variables point to the exact same object in memory."
      ],
      "metadata": {
        "id": "E0cCtlgNIaej"
      }
    },
    {
      "cell_type": "markdown",
      "source": [
        "Q-8 What are logical operators in Python ?\n",
        "\n",
        "Ans- Python has 3 Logical operators\n",
        "\n",
        " ( And )it returns true when the both conditions are true.\n",
        "\n",
        " ( or ) it returns true when atleast one condition is true.\n",
        "\n",
        " ( not ) it reverses the results"
      ],
      "metadata": {
        "id": "ueSsQfXmOs7t"
      }
    },
    {
      "cell_type": "markdown",
      "source": [
        "Q-9 What is type casting in Python ?\n",
        "\n",
        "Ans- TYpe casting is converting one data type into another data type is known as type casting.it has two types of type casting\n",
        "\n",
        "1- Implicit\n",
        "\n",
        "2- explicit"
      ],
      "metadata": {
        "id": "rA8_z8MoQldK"
      }
    },
    {
      "cell_type": "markdown",
      "source": [
        "Q-10 What is the difference between implicit and explicit type casting ?\n",
        "\n",
        "Ans- An implicit type conversion is a conversion performed by the python interpretor without programmer's intervention.\n",
        "\n",
        "An explicite type conversion is user defined that forces an expression or to be of specific data type."
      ],
      "metadata": {
        "id": "VzOSuO-1SXpu"
      }
    },
    {
      "cell_type": "markdown",
      "source": [
        "Q-11 What is the purpose of conditional statements in Python?\n",
        "\n",
        "Ans- The Conditional statements help your program decide what to do instead of always running in a straight line."
      ],
      "metadata": {
        "id": "vVk9OND5Ubrm"
      }
    },
    {
      "cell_type": "markdown",
      "source": [
        "Q-12 How does the elif statement work ?\n",
        "\n",
        "Ans- Elif means \"eles if\". it is used to check the multiple condition one after another. As soon as one condition is true, it's block runs and the rest are skipped.\n",
        "\n",
        "The elif statement lets you handle multiple possibilities in your code instead of just two (if / else)."
      ],
      "metadata": {
        "id": "XsBmjYh-XRll"
      }
    },
    {
      "cell_type": "markdown",
      "source": [
        "Q- 13 What is the difference between for and while loops ?\n",
        "\n",
        "Ans- the \"for \" loop is used when you want to iterate over a sequence like list, tuple, string, range, etc. python atomatically goes through each itme in the sequance.\n",
        "\n",
        "The \" while \" loop is used when you want to repeat a block until it condition becomes false. you don't always know in advance how many times it will run. Risk of infinite loop if the condition never becomes False.\n"
      ],
      "metadata": {
        "id": "taPYmVFUYXjX"
      }
    },
    {
      "cell_type": "markdown",
      "source": [
        "Q-14 Describe a scenario where a while loop is more suitable than a for loop.\n",
        "\n",
        "Ans- The perfect scenario is of ATM pin. when you enter your pin wrong it keeps asking you again and again you don't know how many times it will ask you to put the correct pin. Here the loop runs until the condition met.\n"
      ],
      "metadata": {
        "id": "eXhxL32k2cke"
      }
    },
    {
      "cell_type": "markdown",
      "source": [
        "PRACTICLE QUESTIONS"
      ],
      "metadata": {
        "id": "y3N_N7AJRO8Z"
      }
    },
    {
      "cell_type": "markdown",
      "source": [
        "Q-1 Write a Python program to print \"Hello, World!?\n"
      ],
      "metadata": {
        "id": "Iaz-FLc7RVRe"
      }
    },
    {
      "cell_type": "code",
      "source": [
        "#string\n",
        "message = \"Hello world\"\n",
        "print(message)\n",
        "type(message)"
      ],
      "metadata": {
        "colab": {
          "base_uri": "https://localhost:8080/"
        },
        "id": "89TmXI_5RjZT",
        "outputId": "b3a4ae8f-2ffd-45c7-f9f0-f1c3f8ffbaac"
      },
      "execution_count": 2,
      "outputs": [
        {
          "output_type": "stream",
          "name": "stdout",
          "text": [
            "Hello world\n"
          ]
        },
        {
          "output_type": "execute_result",
          "data": {
            "text/plain": [
              "str"
            ]
          },
          "metadata": {},
          "execution_count": 2
        }
      ]
    },
    {
      "cell_type": "markdown",
      "source": [
        "Q- 2 Write a Python program that displays your name and age?"
      ],
      "metadata": {
        "id": "onBQKyNaeTuI"
      }
    },
    {
      "cell_type": "code",
      "source": [
        "name = 'Devendra kumar sharma'\n",
        "age = 34\n",
        "print(name, age)\n",
        "print(type(name), type(age))"
      ],
      "metadata": {
        "colab": {
          "base_uri": "https://localhost:8080/"
        },
        "id": "JogDGivf6G9E",
        "outputId": "eab32589-fd4e-4b1b-f3ce-3988dca58e7b"
      },
      "execution_count": 6,
      "outputs": [
        {
          "output_type": "stream",
          "name": "stdout",
          "text": [
            "Devendra kumar sharma 34\n",
            "<class 'str'> <class 'int'>\n"
          ]
        }
      ]
    },
    {
      "cell_type": "markdown",
      "source": [
        "Q-3 Write code to print all the pre-defined keywords in Python using the keyword library?"
      ],
      "metadata": {
        "id": "c9qG3Sc8fbKB"
      }
    },
    {
      "cell_type": "code",
      "source": [
        "import keyword\n",
        "keywords = keyword.kwlist\n",
        "print(\"All predefined keywords in Python:\\n\")\n",
        "for kw in keywords:\n",
        "\tprint(kw)"
      ],
      "metadata": {
        "colab": {
          "base_uri": "https://localhost:8080/"
        },
        "id": "7dHJCJPwfiq7",
        "outputId": "1bba3859-cadf-45c7-deaa-a982b83815f2"
      },
      "execution_count": 14,
      "outputs": [
        {
          "output_type": "stream",
          "name": "stdout",
          "text": [
            "All predefined keywords in Python:\n",
            "\n",
            "False\n",
            "None\n",
            "True\n",
            "and\n",
            "as\n",
            "assert\n",
            "async\n",
            "await\n",
            "break\n",
            "class\n",
            "continue\n",
            "def\n",
            "del\n",
            "elif\n",
            "else\n",
            "except\n",
            "finally\n",
            "for\n",
            "from\n",
            "global\n",
            "if\n",
            "import\n",
            "in\n",
            "is\n",
            "lambda\n",
            "nonlocal\n",
            "not\n",
            "or\n",
            "pass\n",
            "raise\n",
            "return\n",
            "try\n",
            "while\n",
            "with\n",
            "yield\n"
          ]
        }
      ]
    },
    {
      "cell_type": "markdown",
      "source": [
        "Q-4 Write a program that checks if a given word is a Python keyword?"
      ],
      "metadata": {
        "id": "UyBHmUGdgQbS"
      }
    },
    {
      "cell_type": "code",
      "source": [
        "import keyword\n",
        "word = input(\"Enter a word: \")\n",
        "if keyword.iskeyword(word):\n",
        "    print(f\"✅ '{word}' is a Python keyword.\")\n",
        "else:\n",
        "    print(f\"❌ '{word}' is NOT a Python keyword.\")"
      ],
      "metadata": {
        "colab": {
          "base_uri": "https://localhost:8080/"
        },
        "id": "PTk5j547gXpz",
        "outputId": "0a005a92-4f84-4180-de40-f496bd2cd5ca"
      },
      "execution_count": 11,
      "outputs": [
        {
          "output_type": "stream",
          "name": "stdout",
          "text": [
            "Enter a word: Del\n",
            "❌ 'Del' is NOT a Python keyword.\n"
          ]
        }
      ]
    },
    {
      "cell_type": "markdown",
      "source": [
        "Q-5 Create a list and tuple in Python, and demonstrate how attempting to change an element works differently\n",
        "for each."
      ],
      "metadata": {
        "id": "eR5hXuDVguRu"
      }
    },
    {
      "cell_type": "code",
      "source": [
        "my_list = [10, 20, 30]\n",
        "my_tuple = (10, 20, 30)\n",
        "print(\"Original list:\", my_list)\n",
        "print(\"Original tuple:\", my_tuple)\n",
        "my_list[1] = 200\n",
        "print(\"\\nAfter changing list[1]:\", my_list)\n",
        "try:\n",
        "    my_tuple[1] = 200\n",
        "except TypeError as e:\n",
        "    print(\"\\nError when changing tuple[1]:\", e)"
      ],
      "metadata": {
        "colab": {
          "base_uri": "https://localhost:8080/"
        },
        "id": "gXpnXtXsg1xW",
        "outputId": "e6ab3f9e-7b38-4b0d-fca5-760072ef2a9c"
      },
      "execution_count": 12,
      "outputs": [
        {
          "output_type": "stream",
          "name": "stdout",
          "text": [
            "Original list: [10, 20, 30]\n",
            "Original tuple: (10, 20, 30)\n",
            "\n",
            "After changing list[1]: [10, 200, 30]\n",
            "\n",
            "Error when changing tuple[1]: 'tuple' object does not support item assignment\n"
          ]
        }
      ]
    },
    {
      "cell_type": "markdown",
      "source": [
        "Q-6  Write a function to demonstrate the behavior of mutable and immutable arguments?"
      ],
      "metadata": {
        "id": "bnAvHcm4hC-v"
      }
    },
    {
      "cell_type": "code",
      "source": [
        "def modify_data(num, data_list):\n",
        "\n",
        "    num += 10\n",
        "\n",
        "    data_list.append(100)\n",
        "\n",
        "    print(\"\\nInside function:\")\n",
        "    print(\"num =\", num)\n",
        "    print(\"data_list =\", data_list)\n",
        "\n",
        "\n",
        "(int)\n",
        "x = 5\n",
        "my_list = [1, 2, 3]\n",
        "\n",
        "print(\"Before function call:\")\n",
        "print(\"x =\", x)\n",
        "print(\"my_list =\", my_list)\n",
        "\n",
        "modify_data(x, my_list)\n",
        "\n",
        "print(\"\\nAfter function call:\")\n",
        "print(\"x =\", x)\n",
        "print(\"my_list =\", my_list)"
      ],
      "metadata": {
        "colab": {
          "base_uri": "https://localhost:8080/"
        },
        "id": "b4ud6EtFhINi",
        "outputId": "cd4f5d63-b5c1-467e-e71e-0a9712293f49"
      },
      "execution_count": 15,
      "outputs": [
        {
          "output_type": "stream",
          "name": "stdout",
          "text": [
            "Before function call:\n",
            "x = 5\n",
            "my_list = [1, 2, 3]\n",
            "\n",
            "Inside function:\n",
            "num = 15\n",
            "data_list = [1, 2, 3, 100]\n",
            "\n",
            "After function call:\n",
            "x = 5\n",
            "my_list = [1, 2, 3, 100]\n"
          ]
        }
      ]
    },
    {
      "cell_type": "markdown",
      "source": [
        "Q-7 Write a program that performs basic arithmetic operations on two user-input numbers."
      ],
      "metadata": {
        "id": "EV_QxMzNhZqe"
      }
    },
    {
      "cell_type": "code",
      "source": [
        "#int\n",
        "a = 20\n",
        "b = 10\n",
        "print(a+b)"
      ],
      "metadata": {
        "colab": {
          "base_uri": "https://localhost:8080/"
        },
        "id": "PyfW6X9mhdP6",
        "outputId": "9277225e-581e-44e2-b90b-48a0c4b2b608"
      },
      "execution_count": 17,
      "outputs": [
        {
          "output_type": "stream",
          "name": "stdout",
          "text": [
            "30\n"
          ]
        }
      ]
    },
    {
      "cell_type": "markdown",
      "source": [],
      "metadata": {
        "id": "GyR39A3LhV9C"
      }
    },
    {
      "cell_type": "markdown",
      "source": [
        " Q-8 Write a program to demonstrate the use of logical operators."
      ],
      "metadata": {
        "id": "zn-eAZWeiJl6"
      }
    },
    {
      "cell_type": "code",
      "source": [
        "age = int(input(\"Enter your age: \"))\n",
        "has_id = input(\"Do you have an ID card? (yes/no): \").lower()\n",
        "\n",
        "print(\"\\nChecking conditions...\")\n",
        "\n",
        "if age >= 18 and has_id == \"yes\":\n",
        "    print(\"✅ You are eligible to vote.\")\n",
        "else:\n",
        "    print(\"❌ You are not eligible to vote.\")\n",
        "if age < 18 or has_id == \"no\":\n",
        "    print(\"⚠️ Some condition for voting is not satisfied.\")\n",
        "else:\n",
        "    print(\"🎉 All conditions are satisfied for voting.\")\n",
        "\n",
        "if not (age < 18):\n",
        "    print(\"👍 You are an adult.\")\n",
        "else:\n",
        "    print(\"👶 You are a minor.\")"
      ],
      "metadata": {
        "colab": {
          "base_uri": "https://localhost:8080/"
        },
        "id": "qTfxR-ptiWbs",
        "outputId": "d2bc218f-d25d-41c2-d13a-96a3ac4ab51f"
      },
      "execution_count": 19,
      "outputs": [
        {
          "output_type": "stream",
          "name": "stdout",
          "text": [
            "Enter your age: 34\n",
            "Do you have an ID card? (yes/no): yes\n",
            "\n",
            "Checking conditions...\n",
            "✅ You are eligible to vote.\n",
            "🎉 All conditions are satisfied for voting.\n",
            "👍 You are an adult.\n"
          ]
        }
      ]
    },
    {
      "cell_type": "markdown",
      "source": [
        "Q-9  Write a Python program to convert user input from string to integer, float, and boolean types."
      ],
      "metadata": {
        "id": "iVxJkL86i8TX"
      }
    },
    {
      "cell_type": "code",
      "source": [
        "user_input = input(\"enter your mind \")\n",
        "\n",
        "print(\"\\nOriginal input (string):\", user_input)\n",
        "try:\n",
        "    int_value = int(user_input)\n",
        "    print(\"As Integer:\", int_value)\n",
        "except ValueError:\n",
        "    print(\"As Integer: ❌ Cannot convert to int\")\n",
        "try:\n",
        "    float_value = float(user_input)\n",
        "    print(\"As Float:\", float_value)\n",
        "except ValueError:\n",
        "    print(\"As Float: ❌ Cannot convert to float\")\n",
        "bool_value = bool(user_input)\n",
        "print(\"As Boolean:\", bool_value)"
      ],
      "metadata": {
        "colab": {
          "base_uri": "https://localhost:8080/"
        },
        "id": "9SR33yZcjRRX",
        "outputId": "7d04f25e-0f30-4384-c6e9-821b1e7d1c92"
      },
      "execution_count": 3,
      "outputs": [
        {
          "output_type": "stream",
          "name": "stdout",
          "text": [
            "enter your mind 20\n",
            "\n",
            "Original input (string): 20\n",
            "As Integer: 20\n",
            "As Float: 20.0\n",
            "As Boolean: True\n"
          ]
        }
      ]
    },
    {
      "cell_type": "markdown",
      "source": [
        "Q-10 Write code to demonstrate type casting with list elements."
      ],
      "metadata": {
        "id": "dzl6XPOV-cdH"
      }
    },
    {
      "cell_type": "code",
      "source": [
        "str_list = [\"10\", \"20\", \"30\", \"0\", \"\"]\n",
        "\n",
        "print(\"Original list:\", str_list)\n",
        "int_list = []\n",
        "for item in str_list:\n",
        "    try:\n",
        "        int_list.append(int(item))\n",
        "    except ValueError:\n",
        "        int_list.append(\"❌\")\n",
        "print(\"As Integers:\", int_list)\n",
        "float_list = []\n",
        "for item in str_list:\n",
        "    try:\n",
        "        float_list.append(float(item))\n",
        "    except ValueError:\n",
        "        float_list.append(\"❌\")\n",
        "print(\"As Floats:\", float_list)\n",
        "bool_list = [bool(item) for item in str_list]\n",
        "print(\"As Booleans:\", bool_list)"
      ],
      "metadata": {
        "colab": {
          "base_uri": "https://localhost:8080/"
        },
        "id": "0ZiCzNCd-kCH",
        "outputId": "8791e79f-8b05-4222-bf40-4c5040d58b5f"
      },
      "execution_count": 12,
      "outputs": [
        {
          "output_type": "stream",
          "name": "stdout",
          "text": [
            "Original list: ['10', '20', '30', '0', '']\n",
            "As Integers: [10, 20, 30, 0, '❌']\n",
            "As Floats: [10.0, 20.0, 30.0, 0.0, '❌']\n",
            "As Booleans: [True, True, True, True, False]\n"
          ]
        }
      ]
    },
    {
      "cell_type": "markdown",
      "source": [
        "Q-11 Write a program that checks if a number is positive, negative, or zero."
      ],
      "metadata": {
        "id": "0E67uYi1_6uA"
      }
    },
    {
      "cell_type": "code",
      "source": [
        "num = float(input(\"Enter a number: \"))\n",
        "if num > 0:\n",
        "    print(f\"{num} is Positive ✅\")\n",
        "elif num < 0:\n",
        "    print(f\"{num} is Negative ❌\")\n",
        "else:\n",
        "    print(\"The number is Zero ⚪\")"
      ],
      "metadata": {
        "colab": {
          "base_uri": "https://localhost:8080/"
        },
        "id": "jsZz1cLy__04",
        "outputId": "582bae17-e86d-46e2-ca33-cfeb976908a5"
      },
      "execution_count": 11,
      "outputs": [
        {
          "output_type": "stream",
          "name": "stdout",
          "text": [
            "Enter a number: -1\n",
            "-1.0 is Negative ❌\n"
          ]
        }
      ]
    },
    {
      "cell_type": "markdown",
      "source": [
        "Q-12 Write a for loop to print numbers from 1 to 10."
      ],
      "metadata": {
        "id": "SOq6PdnkElOx"
      }
    },
    {
      "cell_type": "code",
      "source": [
        "for a in range(1, 11):\n",
        "    print(a)"
      ],
      "metadata": {
        "colab": {
          "base_uri": "https://localhost:8080/"
        },
        "id": "EecS41UBEt2V",
        "outputId": "6e140938-83ce-4f04-9e56-1955ec195697"
      },
      "execution_count": 20,
      "outputs": [
        {
          "output_type": "stream",
          "name": "stdout",
          "text": [
            "1\n",
            "2\n",
            "3\n",
            "4\n",
            "5\n",
            "6\n",
            "7\n",
            "8\n",
            "9\n",
            "10\n"
          ]
        }
      ]
    },
    {
      "cell_type": "markdown",
      "source": [
        "Q-13  Write a Python program to find the sum of all even numbers between 1 and 50.\n",
        "\n"
      ],
      "metadata": {
        "id": "ukU-6x6UDKFJ"
      }
    },
    {
      "cell_type": "code",
      "source": [
        "total = 0\n",
        "\n",
        "for num in range(1, 51):\n",
        "    if num % 2 == 0:\n",
        "        total += num\n",
        "\n",
        "print(\"Sum of even numbers between 1 and 50 is:\", total)"
      ],
      "metadata": {
        "colab": {
          "base_uri": "https://localhost:8080/"
        },
        "id": "xCr3fjDtFpL5",
        "outputId": "d11a5eac-f04d-482b-97b9-9de52dadd1a9"
      },
      "execution_count": 21,
      "outputs": [
        {
          "output_type": "stream",
          "name": "stdout",
          "text": [
            "Sum of even numbers between 1 and 50 is: 650\n"
          ]
        }
      ]
    },
    {
      "cell_type": "markdown",
      "source": [
        "Q-14 Write a program to reverse a string using a while loop."
      ],
      "metadata": {
        "id": "6IMjWN-gF_N3"
      }
    },
    {
      "cell_type": "code",
      "source": [
        "\n",
        "text = input(\"Enter a string: \")\n",
        "reversed_text = \"\"\n",
        "i = len(text) - 1\n",
        "while i >= 0:\n",
        "    reversed_text += text[i]\n",
        "    i -= 1\n",
        "\n",
        "print(\"Reversed string:\", reversed_text)"
      ],
      "metadata": {
        "colab": {
          "base_uri": "https://localhost:8080/"
        },
        "id": "c6YYIOZoGExJ",
        "outputId": "b10166a5-2d10-4025-c521-96c53524a97f"
      },
      "execution_count": 27,
      "outputs": [
        {
          "output_type": "stream",
          "name": "stdout",
          "text": [
            "Enter a string: raman\n",
            "Reversed string: namar\n"
          ]
        }
      ]
    },
    {
      "cell_type": "markdown",
      "source": [
        "Q-15 Write a Python program to calculate the factorial of a number provided by the user using a while loop."
      ],
      "metadata": {
        "id": "45e9Ru0PHWYw"
      }
    },
    {
      "cell_type": "code",
      "source": [
        "num = int(input(\"Enter a number: \"))\n",
        "\n",
        "factorial = 1\n",
        "a = 1\n",
        "while a <= num:\n",
        "    factorial *= i\n",
        "    a += 1\n",
        "print(f\"Factorial of {num} is: {factorial}\")"
      ],
      "metadata": {
        "colab": {
          "base_uri": "https://localhost:8080/"
        },
        "id": "H8Bk9TaGHaPb",
        "outputId": "a35f7e24-f6a6-4297-813d-b7f09a8951a2"
      },
      "execution_count": 28,
      "outputs": [
        {
          "output_type": "stream",
          "name": "stdout",
          "text": [
            "Enter a number: 12\n",
            "Factorial of 12 is: 1\n"
          ]
        }
      ]
    }
  ]
}